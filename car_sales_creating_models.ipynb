{
 "cells": [
  {
   "cell_type": "code",
   "execution_count": 1,
   "id": "6042df41",
   "metadata": {},
   "outputs": [],
   "source": [
    "import numpy as np\n",
    "import pandas as pd\n",
    "import tensorflow as tf\n",
    "from sklearn.preprocessing import LabelEncoder\n",
    "from sklearn.model_selection import train_test_split\n",
    "from sklearn.ensemble import RandomForestRegressor\n",
    "from xgboost import XGBRegressor\n",
    "from sklearn.metrics import mean_absolute_error, mean_squared_error, r2_score\n",
    "from sklearn.model_selection import GridSearchCV\n",
    "import pickle"
   ]
  },
  {
   "cell_type": "code",
   "execution_count": 2,
   "id": "c4eef5c5",
   "metadata": {},
   "outputs": [
    {
     "name": "stdout",
     "output_type": "stream",
     "text": [
      "<class 'pandas.core.frame.DataFrame'>\n",
      "RangeIndex: 546325 entries, 0 to 546324\n",
      "Data columns (total 13 columns):\n",
      " #   Column               Non-Null Count   Dtype  \n",
      "---  ------               --------------   -----  \n",
      " 0   Unnamed: 0           546325 non-null  int64  \n",
      " 1   year                 546325 non-null  int64  \n",
      " 2   make                 546325 non-null  int64  \n",
      " 3   model                546325 non-null  int64  \n",
      " 4   body                 546325 non-null  int64  \n",
      " 5   state                546325 non-null  int64  \n",
      " 6   odometer             546325 non-null  float64\n",
      " 7   color                546325 non-null  int64  \n",
      " 8   interior             546325 non-null  int64  \n",
      " 9   sellingprice         546325 non-null  float64\n",
      " 10  newcondition         546325 non-null  float64\n",
      " 11  profit               546325 non-null  float64\n",
      " 12  transmission_manual  546325 non-null  bool   \n",
      "dtypes: bool(1), float64(4), int64(8)\n",
      "memory usage: 50.5 MB\n"
     ]
    }
   ],
   "source": [
    "raw_df = pd.read_csv('car_prices_processed.csv')\n",
    "raw_df.info()"
   ]
  },
  {
   "cell_type": "code",
   "execution_count": 3,
   "id": "51b87734",
   "metadata": {},
   "outputs": [],
   "source": [
    "df = raw_df.drop(columns=['Unnamed: 0'], axis=1)"
   ]
  },
  {
   "cell_type": "markdown",
   "id": "f03db62f",
   "metadata": {},
   "source": [
    "#### Split Data into Training & Testing Sets"
   ]
  },
  {
   "cell_type": "code",
   "execution_count": 4,
   "id": "a27bb901",
   "metadata": {},
   "outputs": [
    {
     "name": "stdout",
     "output_type": "stream",
     "text": [
      "Train set: (437060, 11) (437060,)\n",
      "Test set: (109265, 11) (109265,)\n"
     ]
    }
   ],
   "source": [
    "# Define features (X) and target (y)\n",
    "X = df.drop(columns=['sellingprice'])\n",
    "y = df['sellingprice']\n",
    "\n",
    "# Split into training (80%) and testing (20%) sets\n",
    "X_train, X_test, y_train, y_test = train_test_split(X, y, test_size=0.2, random_state=40)\n",
    "print(\"Train set:\", X_train.shape, y_train.shape)\n",
    "print(\"Test set:\", X_test.shape, y_test.shape)"
   ]
  },
  {
   "cell_type": "markdown",
   "id": "9acff046",
   "metadata": {},
   "source": [
    "#### Hyperparameter Tuning"
   ]
  },
  {
   "cell_type": "code",
   "execution_count": null,
   "id": "82cf5c79",
   "metadata": {},
   "outputs": [],
   "source": [
    "param_grid = {\n",
    "    'n_estimators': [20, 100, 150],\n",
    "    'max_depth': [20, 30, 50],\n",
    "    'min_samples_split': [2, 3],\n",
    "    'min_samples_leaf': [3, 4]\n",
    "}\n",
    "rf = RandomForestRegressor(random_state=42)\n",
    "grid_search = GridSearchCV(rf, param_grid, cv=5, scoring='r2', verbose=2, n_jobs=-1)\n",
    "grid_search.fit(X_train, y_train)\n",
    "\n",
    "print(\"Best Parameters:\", grid_search.best_params_)"
   ]
  },
  {
   "cell_type": "markdown",
   "id": "5e490bdd",
   "metadata": {},
   "source": [
    "### Random Forest Regressor"
   ]
  },
  {
   "cell_type": "code",
   "execution_count": null,
   "id": "a3ef2702",
   "metadata": {},
   "outputs": [],
   "source": [
    "model = RandomForestRegressor(n_estimators=100, max_depth=20, min_samples_leaf=3, min_samples_split=2, \n",
    "                              random_state=23, verbose=2)\n",
    "model.fit(X_train, y_train)"
   ]
  },
  {
   "cell_type": "markdown",
   "id": "2664708c",
   "metadata": {},
   "source": [
    "### XGBoost Regressor"
   ]
  },
  {
   "cell_type": "code",
   "execution_count": 5,
   "id": "96b98068",
   "metadata": {},
   "outputs": [
    {
     "data": {
      "text/plain": [
       "XGBRegressor(base_score=None, booster=None, callbacks=None,\n",
       "             colsample_bylevel=None, colsample_bynode=None,\n",
       "             colsample_bytree=None, device=None, early_stopping_rounds=None,\n",
       "             enable_categorical=False, eval_metric=None, feature_types=None,\n",
       "             gamma=None, grow_policy=None, importance_type=None,\n",
       "             interaction_constraints=None, learning_rate=0.1, max_bin=None,\n",
       "             max_cat_threshold=None, max_cat_to_onehot=None,\n",
       "             max_delta_step=None, max_depth=20, max_leaves=None,\n",
       "             min_child_weight=None, missing=nan, monotone_constraints=None,\n",
       "             multi_strategy=None, n_estimators=100, n_jobs=None,\n",
       "             num_parallel_tree=None, random_state=23, ...)"
      ]
     },
     "execution_count": 5,
     "metadata": {},
     "output_type": "execute_result"
    }
   ],
   "source": [
    "model = XGBRegressor(n_estimators=100, learning_rate=0.1, max_depth=20, \n",
    "                     random_state=23, verbosity=2)\n",
    "model.fit(X_train, y_train)"
   ]
  },
  {
   "cell_type": "markdown",
   "id": "0f6729eb",
   "metadata": {},
   "source": [
    "#### Evaluating Model's Performance\n",
    "\n",
    "##### Mean Absolute Error (MAE):\n",
    "tells us the average absolute difference between predicted and actual prices. Lower MAE = better accuracy of the model.\n",
    "Need to remember, MAE treats all errors equally and does not penalize large errors more than small ones.\n",
    "##### Root Mean Squared Error (RMSE):\n",
    "similarly to MAE but RMSE penalizes larger errors because it squares the differences before averaging then. Lower RMSE = better accuracy of the model.\n",
    "\n",
    "If large errors are unacceptable, RMSE is preferred because it gives more weight to large errors.\n",
    "\n",
    "If all errors should be treated equally, MAE is a better choice.\n",
    "##### R² Score (Coefficient of Determination):\n",
    "measures how well the model explains the variance in the target variable.\n",
    "\n",
    "R² = 1 → Perfect model (explains 100% of the variance).\n",
    "\n",
    "##### Mean Absolute Percentage Error (MAPE):\n",
    "Shows how large the errors are in percentage terms.\n",
    "MAPE = 10% → On average, the model's predictions are 10% off from actual values."
   ]
  },
  {
   "cell_type": "code",
   "execution_count": 6,
   "id": "55b8f736",
   "metadata": {},
   "outputs": [
    {
     "name": "stdout",
     "output_type": "stream",
     "text": [
      "Mean Absolute Error (MAE): 1366.68\n",
      "Root Mean Squared Error (RMSE): 2645.71\n",
      "R² Score: 0.93\n",
      "Mean Absolute Percentage Error (MAPE): 14.40%\n"
     ]
    }
   ],
   "source": [
    "# Make predictions\n",
    "y_pred = model.predict(X_test)\n",
    "\n",
    "# Compute evaluation metrics\n",
    "mae = mean_absolute_error(y_test, y_pred)\n",
    "rmse = np.sqrt(mean_squared_error(y_test, y_pred))\n",
    "r2 = r2_score(y_test, y_pred)\n",
    "mape = np.mean(np.abs((y_test - y_pred) / y_test)) * 100\n",
    "\n",
    "print(f\"Mean Absolute Error (MAE): {mae:.2f}\")\n",
    "print(f\"Root Mean Squared Error (RMSE): {rmse:.2f}\")\n",
    "print(f\"R² Score: {r2:.2f}\")\n",
    "print(f\"Mean Absolute Percentage Error (MAPE): {mape:.2f}%\")"
   ]
  },
  {
   "cell_type": "markdown",
   "id": "7d577e0d",
   "metadata": {},
   "source": [
    "## Perfomance evaluation of the models\n",
    "### Random Forest Regressor\n",
    "* Mean Absolute Error (MAE): 1424.78\n",
    "* Root Mean Squared Error (RMSE): 2611.95\n",
    "* R² Score: 0.93\n",
    "* Mean Absolute Percentage Error (MAPE): 16.78%\n",
    "\n",
    "### XGBoost Regressor\n",
    "* Mean Absolute Error (MAE): 1366.68\n",
    "* Root Mean Squared Error (RMSE): 2645.71\n",
    "* R² Score: 0.93\n",
    "* Mean Absolute Percentage Error (MAPE): 14.40%\n"
   ]
  },
  {
   "cell_type": "code",
   "execution_count": null,
   "id": "f8286b09",
   "metadata": {},
   "outputs": [],
   "source": [
    "new_car = pd.DataFrame([{\n",
    "    'year': 2006,\n",
    "    'make': 'Toyota',\n",
    "    'model': 'Land Cruiser',\n",
    "    'body': 'SUV',\n",
    "    'state': 'cl',\n",
    "    'odometer': 120000,\n",
    "    'color': 'Black',\n",
    "    'interior': 'Black',\n",
    "    'newcondition': 2,\n",
    "    'transmission_manual': 0\n",
    "}])\n",
    "\n",
    "# Load each label encoder separately\n",
    "with open(\"make_encoder.pkl\", \"rb\") as file:\n",
    "    make_encoder = pickle.load(file)\n",
    "\n",
    "with open(\"model_encoder.pkl\", \"rb\") as file:\n",
    "    model_encoder = pickle.load(file)\n",
    "\n",
    "with open(\"body_encoder.pkl\", \"rb\") as file:\n",
    "    body_encoder = pickle.load(file)\n",
    "\n",
    "with open(\"state_encoder.pkl\", \"rb\") as file:\n",
    "    state_encoder = pickle.load(file)\n",
    "\n",
    "with open(\"color_encoder.pkl\", \"rb\") as file:\n",
    "    color_encoder = pickle.load(file)\n",
    "\n",
    "with open(\"interior_encoder.pkl\", \"rb\") as file:\n",
    "    interior_encoder = pickle.load(file)\n",
    "\n",
    "try:\n",
    "    new_car['make'] = make_encoder.fit_transform(new_car['make'])\n",
    "    new_car['model'] = model_encoder.fit_transform(new_car['model'])\n",
    "    new_car['body'] = body_encoder.fit_transform(new_car['body'])\n",
    "    new_car['state'] = state_encoder.fit_transform(new_car['state'])\n",
    "    new_car['color'] = color_encoder.fit_transform(new_car['color'])\n",
    "    new_car['interior'] = interior_encoder.fit_transform(new_car['interior'])\n",
    "except ValueError as e:\n",
    "    print(f\"Encoding Error: {e}\")\n",
    "\n",
    "new_car[\"transmission_manual\"] = new_car[\"transmission_manual\"].map({\"Automatic\": 0, \"Manual\": 1})\n",
    "new_car[\"transmission_manual\"] = new_car[\"transmission_manual\"].fillna(0)  # Default to 0 if missing\n",
    "\n",
    "# Make the prediction\n",
    "predicted_price = model.predict(new_car)\n",
    "\n",
    "print(f\"Predicted Selling Price: ${predicted_price[0]:,.2f}\")"
   ]
  },
  {
   "cell_type": "code",
   "execution_count": null,
   "id": "4da557fe",
   "metadata": {},
   "outputs": [],
   "source": [
    "with open('model.pkl', 'wb') as reg:\n",
    "    pickle.dump(model, reg)"
   ]
  },
  {
   "cell_type": "code",
   "execution_count": null,
   "id": "b788e33f",
   "metadata": {},
   "outputs": [],
   "source": []
  }
 ],
 "metadata": {
  "kernelspec": {
   "display_name": "Python 3 (ipykernel)",
   "language": "python",
   "name": "python3"
  },
  "language_info": {
   "codemirror_mode": {
    "name": "ipython",
    "version": 3
   },
   "file_extension": ".py",
   "mimetype": "text/x-python",
   "name": "python",
   "nbconvert_exporter": "python",
   "pygments_lexer": "ipython3",
   "version": "3.9.13"
  }
 },
 "nbformat": 4,
 "nbformat_minor": 5
}
